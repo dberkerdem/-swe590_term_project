{
 "cells": [
  {
   "cell_type": "code",
   "execution_count": null,
   "metadata": {
    "collapsed": false
   },
   "outputs": [],
   "source": [
    "\"\"\"This notebook takes csv as input, reshapes each image in the dataset and saves it as .png image\"\"\""
   ]
  },
  {
   "cell_type": "code",
   "execution_count": 10,
   "metadata": {
    "collapsed": false
   },
   "outputs": [],
   "source": [
    "import pandas as pd\n",
    "import numpy as np\n",
    "import cv2"
   ]
  },
  {
   "cell_type": "markdown",
   "metadata": {
    "collapsed": false
   },
   "source": [
    "### Load Data"
   ]
  },
  {
   "cell_type": "code",
   "execution_count": 11,
   "metadata": {
    "collapsed": false
   },
   "outputs": [],
   "source": [
    "\"\"\"Load Test CSV\"\"\"\n",
    "test_data = pd.read_csv(\"./data/test.csv\")"
   ]
  },
  {
   "cell_type": "markdown",
   "metadata": {
    "collapsed": false
   },
   "source": [
    "### Preprocess"
   ]
  },
  {
   "cell_type": "code",
   "execution_count": 12,
   "metadata": {
    "collapsed": false
   },
   "outputs": [],
   "source": [
    "def grey_to_RGB(data: pd.core.frame.DataFrame, IMG_RES: int):\n",
    "    dim = np.zeros((IMG_RES,IMG_RES)) # Dimension Array\n",
    "    X_RGB = [] # Empty list to save RGB images\n",
    "    for i in range(data.shape[0]):\n",
    "        im = data.iloc[i].to_numpy() # fetch image\n",
    "        im = im.reshape(IMG_RES,IMG_RES) # Reshape the image\n",
    "        R = np.stack((im,dim,dim),axis=2) # Add Red Dimension\n",
    "        G = np.stack((dim,im,dim),axis=2) # Add Green Dimension\n",
    "        B = np.stack((dim,dim,im),axis=2) # Add Blue Dimension\n",
    "        X_RGB.append(R+G+B)\n",
    "    return X_RGB # Returns the List of Images"
   ]
  },
  {
   "cell_type": "code",
   "execution_count": 13,
   "metadata": {
    "collapsed": false
   },
   "outputs": [],
   "source": [
    "# Convert 1D Image to RGB\n",
    "X_RGB = grey_to_RGB(test_data,28)"
   ]
  },
  {
   "cell_type": "markdown",
   "metadata": {
    "collapsed": false
   },
   "source": [
    "### Export Images"
   ]
  },
  {
   "cell_type": "code",
   "execution_count": 14,
   "metadata": {
    "collapsed": false
   },
   "outputs": [],
   "source": [
    "base_dir=\"img/\"\n",
    "\n",
    "for index, img in enumerate(X_RGB):\n",
    "    cv2.imwrite(f\"{base_dir}/{index}.png\", img)"
   ]
  }
 ],
 "metadata": {
  "kernelspec": {
   "display_name": "Python 3.11.0 64-bit",
   "language": "python",
   "name": "python3"
  },
  "language_info": {
   "codemirror_mode": {
    "name": "ipython",
    "version": 2
   },
   "file_extension": ".py",
   "mimetype": "text/x-python",
   "name": "python",
   "nbconvert_exporter": "python",
   "pygments_lexer": "ipython2",
   "version": "3.11.0"
  },
  "vscode": {
   "interpreter": {
    "hash": "aee8b7b246df8f9039afb4144a1f6fd8d2ca17a180786b69acc140d282b71a49"
   }
  }
 },
 "nbformat": 4,
 "nbformat_minor": 0
}
